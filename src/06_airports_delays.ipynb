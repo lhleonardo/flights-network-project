{
 "cells": [
  {
   "cell_type": "code",
   "execution_count": 1,
   "metadata": {},
   "outputs": [],
   "source": [
    "from graph import read_network"
   ]
  },
  {
   "cell_type": "code",
   "execution_count": 2,
   "metadata": {},
   "outputs": [],
   "source": [
    "G_carrier = read_network.generate_network_based_on_delay(\"../data/data.csv\", \"CARRIER_DELAY\")\n",
    "G_nas = read_network.generate_network_based_on_delay(\"../data/data.csv\", \"NAS_DELAY\")\n",
    "G_security = read_network.generate_network_based_on_delay(\"../data/data.csv\", \"SECURITY_DELAY\")\n",
    "G_weather = read_network.generate_network_based_on_delay(\"../data/data.csv\", \"WEATHER_DELAY\")"
   ]
  },
  {
   "cell_type": "code",
   "execution_count": 5,
   "metadata": {},
   "outputs": [
    {
     "name": "stdout",
     "output_type": "stream",
     "text": [
      "[('MSP', {'delay': nan}), ('ATL', {'delay': nan}), ('PHF', {'delay': nan}), ('RIC', {'delay': nan}), ('OMA', {'delay': nan}), ('RDU', {'delay': nan}), ('ILM', {'delay': nan}), ('CMH', {'delay': nan}), ('CVG', {'delay': nan}), ('DTW', {'delay': nan}), ('OAJ', {'delay': nan}), ('BOS', {'delay': nan}), ('LGA', {'delay': nan}), ('ORF', {'delay': nan}), ('BUF', {'delay': nan}), ('JFK', {'delay': nan}), ('BWI', {'delay': nan}), ('SHV', {'delay': nan}), ('CAK', {'delay': nan}), ('SDF', {'delay': nan}), ('LNK', {'delay': nan}), ('TVC', {'delay': nan}), ('GRR', {'delay': nan}), ('IND', {'delay': nan}), ('TYS', {'delay': nan}), ('CLE', {'delay': nan}), ('CHO', {'delay': nan}), ('CHS', {'delay': nan}), ('DSM', {'delay': nan}), ('HRL', {'delay': nan}), ('MOT', {'delay': nan}), ('HSV', {'delay': nan}), ('MCO', {'delay': nan}), ('BTR', {'delay': nan}), ('BTV', {'delay': nan}), ('CRW', {'delay': nan}), ('PHL', {'delay': nan}), ('BNA', {'delay': nan}), ('LAX', {'delay': nan}), ('DFW', {'delay': nan}), ('ORD', {'delay': nan}), ('PHX', {'delay': nan}), ('MIA', {'delay': nan}), ('JAX', {'delay': nan}), ('SFO', {'delay': nan}), ('SEA', {'delay': nan}), ('STL', {'delay': nan}), ('DCA', {'delay': nan}), ('CLT', {'delay': nan}), ('LAS', {'delay': nan}), ('GSO', {'delay': nan}), ('DEN', {'delay': nan}), ('GUC', {'delay': nan}), ('RSW', {'delay': nan}), ('MSY', {'delay': nan}), ('GEG', {'delay': nan}), ('AUS', {'delay': nan}), ('IAH', {'delay': nan}), ('SLC', {'delay': nan}), ('MCI', {'delay': nan}), ('MKE', {'delay': nan}), ('MDT', {'delay': nan}), ('TPA', {'delay': nan}), ('SJC', {'delay': nan}), ('OAK', {'delay': nan}), ('SAN', {'delay': nan}), ('SAT', {'delay': nan}), ('SYR', {'delay': nan}), ('MEM', {'delay': nan}), ('TUS', {'delay': nan}), ('SMF', {'delay': nan}), ('ABQ', {'delay': nan}), ('SNA', {'delay': nan}), ('EWR', {'delay': nan}), ('STT', {'delay': nan}), ('EGE', {'delay': nan}), ('BOI', {'delay': nan}), ('FLL', {'delay': nan}), ('PDX', {'delay': nan}), ('MTJ', {'delay': nan}), ('ONT', {'delay': nan}), ('SRQ', {'delay': nan}), ('BDL', {'delay': nan}), ('PVD', {'delay': nan}), ('OGG', {'delay': nan}), ('KOA', {'delay': nan}), ('LIH', {'delay': nan}), ('PBI', {'delay': nan}), ('HNL', {'delay': nan}), ('RNO', {'delay': nan}), ('PIT', {'delay': nan}), ('PWM', {'delay': nan}), ('SJU', {'delay': nan}), ('MHT', {'delay': nan}), ('ALB', {'delay': nan}), ('IAD', {'delay': nan}), ('JAC', {'delay': nan}), ('STX', {'delay': nan}), ('COS', {'delay': nan}), ('ICT', {'delay': nan}), ('ELP', {'delay': nan}), ('TUL', {'delay': nan}), ('CAE', {'delay': nan}), ('FAT', {'delay': nan}), ('VPS', {'delay': nan}), ('GRI', {'delay': nan}), ('BHM', {'delay': nan}), ('SPS', {'delay': nan}), ('SWO', {'delay': nan}), ('DAY', {'delay': nan}), ('COU', {'delay': nan}), ('LEX', {'delay': nan}), ('FAR', {'delay': nan}), ('MFE', {'delay': nan}), ('CID', {'delay': nan}), ('ABI', {'delay': nan}), ('CHA', {'delay': nan}), ('DBQ', {'delay': nan}), ('SUX', {'delay': nan}), ('LIT', {'delay': nan}), ('SGF', {'delay': nan}), ('TLH', {'delay': nan}), ('XNA', {'delay': nan}), ('TYR', {'delay': nan}), ('GRB', {'delay': nan}), ('SJT', {'delay': nan}), ('GRK', {'delay': nan}), ('LAN', {'delay': nan}), ('BPT', {'delay': nan}), ('GNV', {'delay': nan}), ('FSD', {'delay': nan}), ('MSN', {'delay': nan}), ('MGM', {'delay': nan}), ('CWA', {'delay': nan}), ('LSE', {'delay': nan}), ('HOU', {'delay': nan}), ('ACT', {'delay': nan}), ('TOL', {'delay': nan}), ('PNS', {'delay': nan}), ('ROC', {'delay': nan}), ('GGG', {'delay': nan}), ('BZN', {'delay': nan}), ('AEX', {'delay': nan}), ('CMI', {'delay': nan}), ('FWA', {'delay': nan}), ('RST', {'delay': nan}), ('MLI', {'delay': nan}), ('CLL', {'delay': nan}), ('GJT', {'delay': nan}), ('TXK', {'delay': nan}), ('SPI', {'delay': nan}), ('MLU', {'delay': nan}), ('MSO', {'delay': nan}), ('FSM', {'delay': nan}), ('GSP', {'delay': nan}), ('LCH', {'delay': nan}), ('JAN', {'delay': nan}), ('BMI', {'delay': nan}), ('AGS', {'delay': nan}), ('EYW', {'delay': nan}), ('TRI', {'delay': nan}), ('PIA', {'delay': nan}), ('GTR', {'delay': nan}), ('LFT', {'delay': nan}), ('EVV', {'delay': nan}), ('ABE', {'delay': nan}), ('ELM', {'delay': nan}), ('EWN', {'delay': nan}), ('CSG', {'delay': nan}), ('RAP', {'delay': nan}), ('GPT', {'delay': nan}), ('SAV', {'delay': nan}), ('AVL', {'delay': nan}), ('GTF', {'delay': nan}), ('BIS', {'delay': nan}), ('ATW', {'delay': nan}), ('AVP', {'delay': nan}), ('BGR', {'delay': nan}), ('MYR', {'delay': nan}), ('HPN', {'delay': nan}), ('SCK', {'delay': nan}), ('IAG', {'delay': nan}), ('PGD', {'delay': nan}), ('PIE', {'delay': nan}), ('MFR', {'delay': nan}), ('AZA', {'delay': nan}), ('SFB', {'delay': nan}), ('BLI', {'delay': nan}), ('FNT', {'delay': nan}), ('PBG', {'delay': nan}), ('PSC', {'delay': nan}), ('BIL', {'delay': nan}), ('PVU', {'delay': nan}), ('RFD', {'delay': nan}), ('LCK', {'delay': nan}), ('EUG', {'delay': nan}), ('USA', {'delay': nan}), ('HTS', {'delay': nan}), ('MLB', {'delay': nan}), ('FAY', {'delay': nan}), ('DAB', {'delay': nan}), ('ART', {'delay': nan}), ('HVN', {'delay': nan}), ('OKC', {'delay': nan}), ('MOB', {'delay': nan}), ('LBE', {'delay': nan}), ('ACY', {'delay': nan}), ('BQN', {'delay': nan}), ('LAW', {'delay': nan}), ('FLG', {'delay': nan}), ('ASE', {'delay': nan}), ('HDN', {'delay': nan}), ('RDM', {'delay': nan}), ('LRD', {'delay': nan}), ('YUM', {'delay': nan}), ('BRO', {'delay': nan}), ('PSP', {'delay': nan}), ('MHK', {'delay': nan}), ('ROW', {'delay': nan}), ('BFL', {'delay': nan}), ('SAF', {'delay': nan}), ('JLN', {'delay': nan}), ('SGU', {'delay': nan}), ('CYS', {'delay': nan}), ('MEI', {'delay': nan}), ('PIB', {'delay': nan}), ('CRP', {'delay': nan}), ('DAL', {'delay': nan}), ('BUR', {'delay': nan}), ('STS', {'delay': nan}), ('SBP', {'delay': nan}), ('MRY', {'delay': nan}), ('SBN', {'delay': nan}), ('VLD', {'delay': nan}), ('AZO', {'delay': nan}), ('MBS', {'delay': nan}), ('SUN', {'delay': nan}), ('LGB', {'delay': nan}), ('FCA', {'delay': nan}), ('GFK', {'delay': nan}), ('DLH', {'delay': nan}), ('ERI', {'delay': nan}), ('DHN', {'delay': nan}), ('ABY', {'delay': nan}), ('BQK', {'delay': nan}), ('MDW', {'delay': nan}), ('ESC', {'delay': nan}), ('CPR', {'delay': nan}), ('SWF', {'delay': nan}), ('SCE', {'delay': nan}), ('IDA', {'delay': nan}), ('HLN', {'delay': nan}), ('ISN', {'delay': nan}), ('ROA', {'delay': nan}), ('CMX', {'delay': nan}), ('EAU', {'delay': nan}), ('LWB', {'delay': nan}), ('SHD', {'delay': nan}), ('MKG', {'delay': nan}), ('HYS', {'delay': nan}), ('SLN', {'delay': nan}), ('EAR', {'delay': nan}), ('UIN', {'delay': nan}), ('CKB', {'delay': nan}), ('RKS', {'delay': nan}), ('PUB', {'delay': nan}), ('PAH', {'delay': nan}), ('CGI', {'delay': nan}), ('VEL', {'delay': nan}), ('CNY', {'delay': nan}), ('LBL', {'delay': nan}), ('BFF', {'delay': nan}), ('DVL', {'delay': nan}), ('JMS', {'delay': nan}), ('LAR', {'delay': nan}), ('PRC', {'delay': nan}), ('GCC', {'delay': nan}), ('LBF', {'delay': nan}), ('SBA', {'delay': nan}), ('ACV', {'delay': nan}), ('RDD', {'delay': nan}), ('OTH', {'delay': nan}), ('MMH', {'delay': nan}), ('MAF', {'delay': nan}), ('COD', {'delay': nan}), ('LWS', {'delay': nan}), ('PIH', {'delay': nan}), ('MQT', {'delay': nan}), ('ABR', {'delay': nan}), ('APN', {'delay': nan}), ('PLN', {'delay': nan}), ('BJI', {'delay': nan}), ('BRD', {'delay': nan}), ('BTM', {'delay': nan}), ('CDC', {'delay': nan}), ('CIU', {'delay': nan}), ('EKO', {'delay': nan}), ('IMT', {'delay': nan}), ('TWF', {'delay': nan}), ('HIB', {'delay': nan}), ('RHI', {'delay': nan}), ('BGM', {'delay': nan}), ('ITH', {'delay': nan}), ('INL', {'delay': nan}), ('ECP', {'delay': nan}), ('FAI', {'delay': nan}), ('ANC', {'delay': nan}), ('AMA', {'delay': nan}), ('HOB', {'delay': nan}), ('HHH', {'delay': nan}), ('ITO', {'delay': nan}), ('GUM', {'delay': nan}), ('SPN', {'delay': nan}), ('DRT', {'delay': nan}), ('GCK', {'delay': nan}), ('ALO', {'delay': nan}), ('LBB', {'delay': nan}), ('ISP', {'delay': nan}), ('BLV', {'delay': nan}), ('PSE', {'delay': nan}), ('ORH', {'delay': nan}), ('ADQ', {'delay': nan}), ('BET', {'delay': nan}), ('BRW', {'delay': nan}), ('SCC', {'delay': nan}), ('KTN', {'delay': nan}), ('JNU', {'delay': nan}), ('SIT', {'delay': nan}), ('WRG', {'delay': nan}), ('PSG', {'delay': nan}), ('OME', {'delay': nan}), ('OTZ', {'delay': nan}), ('DRO', {'delay': nan}), ('TTN', {'delay': nan}), ('PSM', {'delay': nan}), ('HGR', {'delay': nan}), ('OWB', {'delay': nan}), ('YAK', {'delay': nan}), ('CDV', {'delay': nan}), ('ADK', {'delay': nan}), ('STC', {'delay': nan}), ('SMX', {'delay': nan}), ('OGS', {'delay': nan}), ('PPG', {'delay': nan}), ('OGD', {'delay': nan}), ('LYH', {'delay': nan})]\n"
     ]
    }
   ],
   "source": [
    "print(G_carrier.nodes(data=True))"
   ]
  }
 ],
 "metadata": {
  "kernelspec": {
   "display_name": "Python 3",
   "language": "python",
   "name": "python3"
  },
  "language_info": {
   "codemirror_mode": {
    "name": "ipython",
    "version": 3
   },
   "file_extension": ".py",
   "mimetype": "text/x-python",
   "name": "python",
   "nbconvert_exporter": "python",
   "pygments_lexer": "ipython3",
   "version": "3.11.2"
  },
  "orig_nbformat": 4
 },
 "nbformat": 4,
 "nbformat_minor": 2
}
